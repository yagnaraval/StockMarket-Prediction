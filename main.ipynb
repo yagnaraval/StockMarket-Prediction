{
  "nbformat": 4,
  "nbformat_minor": 0,
  "metadata": {
    "colab": {
      "provenance": []
    },
    "kernelspec": {
      "name": "python3",
      "display_name": "Python 3"
    }
  },
  "cells": [
    {
      "cell_type": "code",
      "metadata": {
        "colab": {
          "base_uri": "https://localhost:8080/"
        },
        "id": "-zka1QJ0oo21",
        "outputId": "1cfaf7c8-3b03-4cfb-fa84-e296549058e6"
      },
      "source": [
        "pip install yfinance"
      ],
      "execution_count": null,
      "outputs": [
        {
          "output_type": "stream",
          "name": "stdout",
          "text": [
            "Requirement already satisfied: yfinance in /usr/local/lib/python3.10/dist-packages (0.2.38)\n",
            "Requirement already satisfied: pandas>=1.3.0 in /usr/local/lib/python3.10/dist-packages (from yfinance) (2.0.3)\n",
            "Requirement already satisfied: numpy>=1.16.5 in /usr/local/lib/python3.10/dist-packages (from yfinance) (1.25.2)\n",
            "Requirement already satisfied: requests>=2.31 in /usr/local/lib/python3.10/dist-packages (from yfinance) (2.31.0)\n",
            "Requirement already satisfied: multitasking>=0.0.7 in /usr/local/lib/python3.10/dist-packages (from yfinance) (0.0.11)\n",
            "Requirement already satisfied: lxml>=4.9.1 in /usr/local/lib/python3.10/dist-packages (from yfinance) (4.9.4)\n",
            "Requirement already satisfied: appdirs>=1.4.4 in /usr/local/lib/python3.10/dist-packages (from yfinance) (1.4.4)\n",
            "Requirement already satisfied: pytz>=2022.5 in /usr/local/lib/python3.10/dist-packages (from yfinance) (2023.4)\n",
            "Requirement already satisfied: frozendict>=2.3.4 in /usr/local/lib/python3.10/dist-packages (from yfinance) (2.4.2)\n",
            "Requirement already satisfied: peewee>=3.16.2 in /usr/local/lib/python3.10/dist-packages (from yfinance) (3.17.3)\n",
            "Requirement already satisfied: beautifulsoup4>=4.11.1 in /usr/local/lib/python3.10/dist-packages (from yfinance) (4.12.3)\n",
            "Requirement already satisfied: html5lib>=1.1 in /usr/local/lib/python3.10/dist-packages (from yfinance) (1.1)\n",
            "Requirement already satisfied: soupsieve>1.2 in /usr/local/lib/python3.10/dist-packages (from beautifulsoup4>=4.11.1->yfinance) (2.5)\n",
            "Requirement already satisfied: six>=1.9 in /usr/local/lib/python3.10/dist-packages (from html5lib>=1.1->yfinance) (1.16.0)\n",
            "Requirement already satisfied: webencodings in /usr/local/lib/python3.10/dist-packages (from html5lib>=1.1->yfinance) (0.5.1)\n",
            "Requirement already satisfied: python-dateutil>=2.8.2 in /usr/local/lib/python3.10/dist-packages (from pandas>=1.3.0->yfinance) (2.8.2)\n",
            "Requirement already satisfied: tzdata>=2022.1 in /usr/local/lib/python3.10/dist-packages (from pandas>=1.3.0->yfinance) (2024.1)\n",
            "Requirement already satisfied: charset-normalizer<4,>=2 in /usr/local/lib/python3.10/dist-packages (from requests>=2.31->yfinance) (3.3.2)\n",
            "Requirement already satisfied: idna<4,>=2.5 in /usr/local/lib/python3.10/dist-packages (from requests>=2.31->yfinance) (3.7)\n",
            "Requirement already satisfied: urllib3<3,>=1.21.1 in /usr/local/lib/python3.10/dist-packages (from requests>=2.31->yfinance) (2.0.7)\n",
            "Requirement already satisfied: certifi>=2017.4.17 in /usr/local/lib/python3.10/dist-packages (from requests>=2.31->yfinance) (2024.2.2)\n"
          ]
        }
      ]
    },
    {
      "cell_type": "code",
      "metadata": {
        "colab": {
          "base_uri": "https://localhost:8080/"
        },
        "id": "8W2gxhWHo525",
        "outputId": "fbd26f9e-bc77-400f-fb30-0497ff402cfb"
      },
      "source": [
        "pip install finta #FInancial TEchinical Analaysis"
      ],
      "execution_count": null,
      "outputs": [
        {
          "output_type": "stream",
          "name": "stdout",
          "text": [
            "Collecting finta\n",
            "  Downloading finta-1.3-py3-none-any.whl (29 kB)\n",
            "Requirement already satisfied: numpy in /usr/local/lib/python3.10/dist-packages (from finta) (1.25.2)\n",
            "Requirement already satisfied: pandas in /usr/local/lib/python3.10/dist-packages (from finta) (2.0.3)\n",
            "Requirement already satisfied: python-dateutil>=2.8.2 in /usr/local/lib/python3.10/dist-packages (from pandas->finta) (2.8.2)\n",
            "Requirement already satisfied: pytz>=2020.1 in /usr/local/lib/python3.10/dist-packages (from pandas->finta) (2023.4)\n",
            "Requirement already satisfied: tzdata>=2022.1 in /usr/local/lib/python3.10/dist-packages (from pandas->finta) (2024.1)\n",
            "Requirement already satisfied: six>=1.5 in /usr/local/lib/python3.10/dist-packages (from python-dateutil>=2.8.2->pandas->finta) (1.16.0)\n",
            "Installing collected packages: finta\n",
            "Successfully installed finta-1.3\n"
          ]
        }
      ]
    },
    {
      "cell_type": "code",
      "metadata": {
        "colab": {
          "base_uri": "https://localhost:8080/"
        },
        "id": "hTGBPRtwtX8z",
        "outputId": "315548ab-6e2e-4af5-d447-2359f2fa496b"
      },
      "source": [
        "pip install Yahoo-ticker-downloader\n"
      ],
      "execution_count": null,
      "outputs": [
        {
          "output_type": "stream",
          "name": "stdout",
          "text": [
            "Collecting Yahoo-ticker-downloader\n",
            "  Downloading Yahoo-ticker-downloader-3.0.1.tar.gz (8.6 kB)\n",
            "  Preparing metadata (setup.py) ... \u001b[?25l\u001b[?25hdone\n",
            "Requirement already satisfied: requests>=2.4.3 in /usr/local/lib/python3.10/dist-packages (from Yahoo-ticker-downloader) (2.31.0)\n",
            "Collecting tablib>=0.9.11 (from Yahoo-ticker-downloader)\n",
            "  Downloading tablib-3.6.1-py3-none-any.whl (47 kB)\n",
            "\u001b[2K     \u001b[90m━━━━━━━━━━━━━━━━━━━━━━━━━━━━━━━━━━━━━━━━\u001b[0m \u001b[32m47.1/47.1 kB\u001b[0m \u001b[31m1.6 MB/s\u001b[0m eta \u001b[36m0:00:00\u001b[0m\n",
            "\u001b[?25hCollecting backports.csv>=1.0.4 (from Yahoo-ticker-downloader)\n",
            "  Downloading backports.csv-1.0.7-py2.py3-none-any.whl (12 kB)\n",
            "Requirement already satisfied: charset-normalizer<4,>=2 in /usr/local/lib/python3.10/dist-packages (from requests>=2.4.3->Yahoo-ticker-downloader) (3.3.2)\n",
            "Requirement already satisfied: idna<4,>=2.5 in /usr/local/lib/python3.10/dist-packages (from requests>=2.4.3->Yahoo-ticker-downloader) (3.7)\n",
            "Requirement already satisfied: urllib3<3,>=1.21.1 in /usr/local/lib/python3.10/dist-packages (from requests>=2.4.3->Yahoo-ticker-downloader) (2.0.7)\n",
            "Requirement already satisfied: certifi>=2017.4.17 in /usr/local/lib/python3.10/dist-packages (from requests>=2.4.3->Yahoo-ticker-downloader) (2024.2.2)\n",
            "Building wheels for collected packages: Yahoo-ticker-downloader\n",
            "  Building wheel for Yahoo-ticker-downloader (setup.py) ... \u001b[?25l\u001b[?25hdone\n",
            "  Created wheel for Yahoo-ticker-downloader: filename=Yahoo_ticker_downloader-3.0.1-py3-none-any.whl size=10165 sha256=ee7b20856383f65a7c2f7f642f6ac54b3de0218ad9c0c83f5a5df3ae528e9ed9\n",
            "  Stored in directory: /root/.cache/pip/wheels/d0/e8/c5/096d50b106a31b8631622e87cecf82053bf0887e289624f05c\n",
            "Successfully built Yahoo-ticker-downloader\n",
            "Installing collected packages: backports.csv, tablib, Yahoo-ticker-downloader\n",
            "Successfully installed Yahoo-ticker-downloader-3.0.1 backports.csv-1.0.7 tablib-3.6.1\n"
          ]
        }
      ]
    },
    {
      "cell_type": "code",
      "metadata": {
        "id": "qcEK29F4oNmu"
      },
      "source": [
        "import yfinance as yf\n",
        "import datetime\n",
        "import pandas as pd\n",
        "import numpy as np\n",
        "from finta import TA\n",
        "import matplotlib.pyplot as plt\n",
        "\n",
        "from sklearn import svm\n",
        "from sklearn.ensemble import RandomForestClassifier\n",
        "from sklearn.neighbors import KNeighborsClassifier\n",
        "from sklearn.ensemble import AdaBoostClassifier\n",
        "from sklearn.ensemble import GradientBoostingClassifier\n",
        "from sklearn.ensemble import VotingClassifier\n",
        "from sklearn.model_selection import train_test_split, GridSearchCV\n",
        "from sklearn.metrics import confusion_matrix, classification_report\n",
        "from sklearn import metrics\n",
        "from googlesearch import search"
      ],
      "execution_count": null,
      "outputs": []
    },
    {
      "cell_type": "code",
      "metadata": {
        "colab": {
          "base_uri": "https://localhost:8080/"
        },
        "id": "qADBOyoKtidq",
        "outputId": "59266e38-7020-4cc3-afff-f6b1ff863065"
      },
      "source": [
        "company_name=input(\"Enter a company name: \")\n"
      ],
      "execution_count": null,
      "outputs": [
        {
          "name": "stdout",
          "output_type": "stream",
          "text": [
            "Enter a company name: hdfcbank\n"
          ]
        }
      ]
    },
    {
      "cell_type": "code",
      "metadata": {
        "colab": {
          "base_uri": "https://localhost:8080/"
        },
        "id": "zKp91CpQvt70",
        "outputId": "38b29eb5-6a01-462a-c4e3-1aae871fae2e"
      },
      "source": [
        "searchval = 'yahoo finance '+company_name\n",
        "link = []\n",
        "#limits to the first link\n",
        "for url in search(searchval, tld='es', lang='es', stop=1):\n",
        "  link.append(url)\n",
        "\n",
        "link = str(link[0])\n",
        "link=link.split(\"/\")\n",
        "if link[-1]=='':\n",
        "  ticker=link[-2]\n",
        "else:\n",
        "  x=link[-1].split('=')\n",
        "  ticker=x[-1]\n",
        "symbol=ticker\n",
        "print(symbol)"
      ],
      "execution_count": null,
      "outputs": [
        {
          "output_type": "stream",
          "name": "stdout",
          "text": [
            "HDFCBANK.NS\n"
          ]
        }
      ]
    },
    {
      "cell_type": "code",
      "metadata": {
        "id": "dywoj4oUoSQi"
      },
      "source": [
        "NUM_DAYS = 10000     # Here, there is 10000 days, we have to reduce this according to our needs\n",
        "INTERVAL = '1d'     # Sample rate of historical data, we can use weeks and all\n",
        "\n",
        "INDICATORS = ['RSI', 'MACD', 'STOCH','ADL', 'ATR', 'MOM', 'MFI', 'ROC', 'OBV', 'CCI', 'EMV', 'VORTEX'] #Column name of Yahoo finance"
      ],
      "execution_count": null,
      "outputs": []
    },
    {
      "cell_type": "code",
      "metadata": {
        "colab": {
          "base_uri": "https://localhost:8080/"
        },
        "id": "sMTmKq7spXqw",
        "outputId": "aa123596-4004-42fb-e621-7907e4092293"
      },
      "source": [
        "start = (datetime.date.today() - datetime.timedelta( NUM_DAYS ) )\n",
        "end = datetime.datetime.today()\n",
        "\n",
        "data = yf.download(symbol, start=start, end=end, interval=INTERVAL)\n",
        "data.rename(columns={\"Close\": 'close', \"High\": 'high', \"Low\": 'low', 'Volume': 'volume', 'Open': 'open'}, inplace=True)\n",
        "\n",
        "print(data['close']) #as a professional trader myself, we predict from the closing dates\n"
      ],
      "execution_count": null,
      "outputs": [
        {
          "output_type": "stream",
          "name": "stderr",
          "text": [
            "\r[*********************100%%**********************]  1 of 1 completed"
          ]
        },
        {
          "output_type": "stream",
          "name": "stdout",
          "text": [
            "Date\n",
            "1996-12-11       3.790000\n",
            "1996-12-12       3.775000\n",
            "1996-12-13       3.750000\n",
            "1996-12-16       3.815000\n",
            "1996-12-17       3.885000\n",
            "                 ...     \n",
            "2024-04-22    1512.199951\n",
            "2024-04-23    1507.599976\n",
            "2024-04-24    1511.699951\n",
            "2024-04-25    1510.750000\n",
            "2024-04-26    1509.800049\n",
            "Name: close, Length: 6869, dtype: float64\n"
          ]
        },
        {
          "output_type": "stream",
          "name": "stderr",
          "text": [
            "\n"
          ]
        }
      ]
    },
    {
      "cell_type": "code",
      "metadata": {
        "id": "lW99E2cyZZGf",
        "colab": {
          "base_uri": "https://localhost:8080/",
          "height": 487
        },
        "outputId": "e707d854-607e-45f5-dc1e-a7cb7ea380fa"
      },
      "source": [
        "import matplotlib.pyplot as plt\n",
        "plt.figure(figsize=(10,5))\n",
        "plt.title('Close Price History')\n",
        "plt.plot(data['close'])\n",
        "plt.xlabel('Date')\n",
        "plt.ylabel('Close Price')\n",
        "plt.show()"
      ],
      "execution_count": null,
      "outputs": [
        {
          "output_type": "display_data",
          "data": {
            "text/plain": [
              "<Figure size 1000x500 with 1 Axes>"
            ],
            "image/png": "[encoded data removed]"
          },
          "metadata": {}
        }
      ]
    },
    {
      "cell_type": "code",
      "metadata": {
        "id": "1hdnsRXgbvq1"
      },
      "source": [
        "data.to_csv('f1.csv')"
      ],
      "execution_count": null,
      "outputs": []
    },
    {
      "cell_type": "code",
      "metadata": {
        "id": "0z3x2kWecbzQ"
      },
      "source": [
        "df=pd.read_csv('f1.csv') #CSV files"
      ],
      "execution_count": null,
      "outputs": []
    },
    {
      "cell_type": "code",
      "metadata": {
        "colab": {
          "base_uri": "https://localhost:8080/",
          "height": 424
        },
        "id": "nBtdjEqBckeD",
        "outputId": "ad98680c-f863-4c6f-8fb0-b062cd2ff685"
      },
      "source": [
        "df"
      ],
      "execution_count": null,
      "outputs": [
        {
          "output_type": "execute_result",
          "data": {
            "text/plain": [
              "            Date         open         high          low        close  \\\n",
              "0     1996-12-11     3.750000     3.800000     3.740000     3.790000   \n",
              "1     1996-12-12     3.825000     3.830000     3.730000     3.775000   \n",
              "2     1996-12-13     3.730000     3.790000     3.725000     3.750000   \n",
              "3     1996-12-16     3.825000     3.840000     3.755000     3.815000   \n",
              "4     1996-12-17     3.805000     3.900000     3.785000     3.885000   \n",
              "...          ...          ...          ...          ...          ...   \n",
              "6864  2024-04-22  1557.400024  1557.400024  1508.300049  1512.199951   \n",
              "6865  2024-04-23  1526.300049  1526.500000  1503.250000  1507.599976   \n",
              "6866  2024-04-24  1515.000000  1521.750000  1509.050049  1511.699951   \n",
              "6867  2024-04-25  1506.250000  1519.699951  1506.250000  1510.750000   \n",
              "6868  2024-04-26  1519.800049  1528.000000  1505.550049  1509.800049   \n",
              "\n",
              "        Adj Close    volume  \n",
              "0        3.005115    381000  \n",
              "1        2.993221    413000  \n",
              "2        2.973398    230000  \n",
              "3        3.024937    526000  \n",
              "4        3.080441    636000  \n",
              "...           ...       ...  \n",
              "6864  1512.199951  21149219  \n",
              "6865  1507.599976  13413530  \n",
              "6866  1511.699951  11220790  \n",
              "6867  1510.750000  17722602  \n",
              "6868  1509.800049  12427347  \n",
              "\n",
              "[6869 rows x 7 columns]"
            ],
            "text/html": [
              "\n",
              "  <div id=\"df-b87eb838-ab62-427e-8073-21d6e975fe5b\" class=\"colab-df-container\">\n",
              "    <div>\n",
              "<style scoped>\n",
              "    .dataframe tbody tr th:only-of-type {\n",
              "        vertical-align: middle;\n",
              "    }\n",
              "\n",
              "    .dataframe tbody tr th {\n",
              "        vertical-align: top;\n",
              "    }\n",
              "\n",
              "    .dataframe thead th {\n",
              "        text-align: right;\n",
              "    }\n",
              "</style>\n",
              "<table border=\"1\" class=\"dataframe\">\n",
              "  <thead>\n",
              "    <tr style=\"text-align: right;\">\n",
              "      <th></th>\n",
              "      <th>Date</th>\n",
              "      <th>open</th>\n",
              "      <th>high</th>\n",
              "      <th>low</th>\n",
              "      <th>close</th>\n",
              "      <th>Adj Close</th>\n",
              "      <th>volume</th>\n",
              "    </tr>\n",
              "  </thead>\n",
              "  <tbody>\n",
              "    <tr>\n",
              "      <th>0</th>\n",
              "      <td>1996-12-11</td>\n",
              "      <td>3.750000</td>\n",
              "      <td>3.800000</td>\n",
              "      <td>3.740000</td>\n",
              "      <td>3.790000</td>\n",
              "      <td>3.005115</td>\n",
              "      <td>381000</td>\n",
              "    </tr>\n",
              "    <tr>\n",
              "      <th>1</th>\n",
              "      <td>1996-12-12</td>\n",
              "      <td>3.825000</td>\n",
              "      <td>3.830000</td>\n",
              "      <td>3.730000</td>\n",
              "      <td>3.775000</td>\n",
              "      <td>2.993221</td>\n",
              "      <td>413000</td>\n",
              "    </tr>\n",
              "    <tr>\n",
              "      <th>2</th>\n",
              "      <td>1996-12-13</td>\n",
              "      <td>3.730000</td>\n",
              "      <td>3.790000</td>\n",
              "      <td>3.725000</td>\n",
              "      <td>3.750000</td>\n",
              "      <td>2.973398</td>\n",
              "      <td>230000</td>\n",
              "    </tr>\n",
              "    <tr>\n",
              "      <th>3</th>\n",
              "      <td>1996-12-16</td>\n",
              "      <td>3.825000</td>\n",
              "      <td>3.840000</td>\n",
              "      <td>3.755000</td>\n",
              "      <td>3.815000</td>\n",
              "      <td>3.024937</td>\n",
              "      <td>526000</td>\n",
              "    </tr>\n",
              "    <tr>\n",
              "      <th>4</th>\n",
              "      <td>1996-12-17</td>\n",
              "      <td>3.805000</td>\n",
              "      <td>3.900000</td>\n",
              "      <td>3.785000</td>\n",
              "      <td>3.885000</td>\n",
              "      <td>3.080441</td>\n",
              "      <td>636000</td>\n",
              "    </tr>\n",
              "    <tr>\n",
              "      <th>...</th>\n",
              "      <td>...</td>\n",
              "      <td>...</td>\n",
              "      <td>...</td>\n",
              "      <td>...</td>\n",
              "      <td>...</td>\n",
              "      <td>...</td>\n",
              "      <td>...</td>\n",
              "    </tr>\n",
              "    <tr>\n",
              "      <th>6864</th>\n",
              "      <td>2024-04-22</td>\n",
              "      <td>1557.400024</td>\n",
              "      <td>1557.400024</td>\n",
              "      <td>1508.300049</td>\n",
              "      <td>1512.199951</td>\n",
              "      <td>1512.199951</td>\n",
              "      <td>21149219</td>\n",
              "    </tr>\n",
              "    <tr>\n",
              "      <th>6865</th>\n",
              "      <td>2024-04-23</td>\n",
              "      <td>1526.300049</td>\n",
              "      <td>1526.500000</td>\n",
              "      <td>1503.250000</td>\n",
              "      <td>1507.599976</td>\n",
              "      <td>1507.599976</td>\n",
              "      <td>13413530</td>\n",
              "    </tr>\n",
              "    <tr>\n",
              "      <th>6866</th>\n",
              "      <td>2024-04-24</td>\n",
              "      <td>1515.000000</td>\n",
              "      <td>1521.750000</td>\n",
              "      <td>1509.050049</td>\n",
              "      <td>1511.699951</td>\n",
              "      <td>1511.699951</td>\n",
              "      <td>11220790</td>\n",
              "    </tr>\n",
              "    <tr>\n",
              "      <th>6867</th>\n",
              "      <td>2024-04-25</td>\n",
              "      <td>1506.250000</td>\n",
              "      <td>1519.699951</td>\n",
              "      <td>1506.250000</td>\n",
              "      <td>1510.750000</td>\n",
              "      <td>1510.750000</td>\n",
              "      <td>17722602</td>\n",
              "    </tr>\n",
              "    <tr>\n",
              "      <th>6868</th>\n",
              "      <td>2024-04-26</td>\n",
              "      <td>1519.800049</td>\n",
              "      <td>1528.000000</td>\n",
              "      <td>1505.550049</td>\n",
              "      <td>1509.800049</td>\n",
              "      <td>1509.800049</td>\n",
              "      <td>12427347</td>\n",
              "    </tr>\n",
              "  </tbody>\n",
              "</table>\n",
              "<p>6869 rows × 7 columns</p>\n",
              "</div>\n",
              "    <div class=\"colab-df-buttons\">\n",
              "\n",
              "  <div class=\"colab-df-container\">\n",
              "    <button class=\"colab-df-convert\" onclick=\"convertToInteractive('df-b87eb838-ab62-427e-8073-21d6e975fe5b')\"\n",
              "            title=\"Convert this dataframe to an interactive table.\"\n",
              "            style=\"display:none;\">\n",
              "\n",
              "  <svg xmlns=\"http://www.w3.org/2000/svg\" height=\"24px\" viewBox=\"0 -960 960 960\">\n",
              "    <path d=\"M120-120v-720h720v720H120Zm60-500h600v-160H180v160Zm220 220h160v-160H400v160Zm0 220h160v-160H400v160ZM180-400h160v-160H180v160Zm440 0h160v-160H620v160ZM180-180h160v-160H180v160Zm440 0h160v-160H620v160Z\"/>\n",
              "  </svg>\n",
              "    </button>\n",
              "\n",
              "  <style>\n",
              "    .colab-df-container {\n",
              "      display:flex;\n",
              "      gap: 12px;\n",
              "    }\n",
              "\n",
              "    .colab-df-convert {\n",
              "      background-color: #E8F0FE;\n",
              "      border: none;\n",
              "      border-radius: 50%;\n",
              "      cursor: pointer;\n",
              "      display: none;\n",
              "      fill: #1967D2;\n",
              "      height: 32px;\n",
              "      padding: 0 0 0 0;\n",
              "      width: 32px;\n",
              "    }\n",
              "\n",
              "    .colab-df-convert:hover {\n",
              "      background-color: #E2EBFA;\n",
              "      box-shadow: 0px 1px 2px rgba(60, 64, 67, 0.3), 0px 1px 3px 1px rgba(60, 64, 67, 0.15);\n",
              "      fill: #174EA6;\n",
              "    }\n",
              "\n",
              "    .colab-df-buttons div {\n",
              "      margin-bottom: 4px;\n",
              "    }\n",
              "\n",
              "    [theme=dark] .colab-df-convert {\n",
              "      background-color: #3B4455;\n",
              "      fill: #D2E3FC;\n",
              "    }\n",
              "\n",
              "    [theme=dark] .colab-df-convert:hover {\n",
              "      background-color: #434B5C;\n",
              "      box-shadow: 0px 1px 3px 1px rgba(0, 0, 0, 0.15);\n",
              "      filter: drop-shadow(0px 1px 2px rgba(0, 0, 0, 0.3));\n",
              "      fill: #FFFFFF;\n",
              "    }\n",
              "  </style>\n",
              "\n",
              "    <script>\n",
              "      const buttonEl =\n",
              "        document.querySelector('#df-b87eb838-ab62-427e-8073-21d6e975fe5b button.colab-df-convert');\n",
              "      buttonEl.style.display =\n",
              "        google.colab.kernel.accessAllowed ? 'block' : 'none';\n",
              "\n",
              "      async function convertToInteractive(key) {\n",
              "        const element = document.querySelector('#df-b87eb838-ab62-427e-8073-21d6e975fe5b');\n",
              "        const dataTable =\n",
              "          await google.colab.kernel.invokeFunction('convertToInteractive',\n",
              "                                                    [key], {});\n",
              "        if (!dataTable) return;\n",
              "\n",
              "        const docLinkHtml = 'Like what you see? Visit the ' +\n",
              "          '<a target=\"_blank\" href=https://colab.research.google.com/notebooks/data_table.ipynb>data table notebook</a>'\n",
              "          + ' to learn more about interactive tables.';\n",
              "        element.innerHTML = '';\n",
              "        dataTable['output_type'] = 'display_data';\n",
              "        await google.colab.output.renderOutput(dataTable, element);\n",
              "        const docLink = document.createElement('div');\n",
              "        docLink.innerHTML = docLinkHtml;\n",
              "        element.appendChild(docLink);\n",
              "      }\n",
              "    </script>\n",
              "  </div>\n",
              "\n",
              "\n",
              "<div id=\"df-9336c895-ad9d-4c3a-b1cf-431ec4526b39\">\n",
              "  <button class=\"colab-df-quickchart\" onclick=\"quickchart('df-9336c895-ad9d-4c3a-b1cf-431ec4526b39')\"\n",
              "            title=\"Suggest charts\"\n",
              "            style=\"display:none;\">\n",
              "\n",
              "<svg xmlns=\"http://www.w3.org/2000/svg\" height=\"24px\"viewBox=\"0 0 24 24\"\n",
              "     width=\"24px\">\n",
              "    <g>\n",
              "        <path d=\"M19 3H5c-1.1 0-2 .9-2 2v14c0 1.1.9 2 2 2h14c1.1 0 2-.9 2-2V5c0-1.1-.9-2-2-2zM9 17H7v-7h2v7zm4 0h-2V7h2v10zm4 0h-2v-4h2v4z\"/>\n",
              "    </g>\n",
              "</svg>\n",
              "  </button>\n",
              "\n",
              "<style>\n",
              "  .colab-df-quickchart {\n",
              "      --bg-color: #E8F0FE;\n",
              "      --fill-color: #1967D2;\n",
              "      --hover-bg-color: #E2EBFA;\n",
              "      --hover-fill-color: #174EA6;\n",
              "      --disabled-fill-color: #AAA;\n",
              "      --disabled-bg-color: #DDD;\n",
              "  }\n",
              "\n",
              "  [theme=dark] .colab-df-quickchart {\n",
              "      --bg-color: #3B4455;\n",
              "      --fill-color: #D2E3FC;\n",
              "      --hover-bg-color: #434B5C;\n",
              "      --hover-fill-color: #FFFFFF;\n",
              "      --disabled-bg-color: #3B4455;\n",
              "      --disabled-fill-color: #666;\n",
              "  }\n",
              "\n",
              "  .colab-df-quickchart {\n",
              "    background-color: var(--bg-color);\n",
              "    border: none;\n",
              "    border-radius: 50%;\n",
              "    cursor: pointer;\n",
              "    display: none;\n",
              "    fill: var(--fill-color);\n",
              "    height: 32px;\n",
              "    padding: 0;\n",
              "    width: 32px;\n",
              "  }\n",
              "\n",
              "  .colab-df-quickchart:hover {\n",
              "    background-color: var(--hover-bg-color);\n",
              "    box-shadow: 0 1px 2px rgba(60, 64, 67, 0.3), 0 1px 3px 1px rgba(60, 64, 67, 0.15);\n",
              "    fill: var(--button-hover-fill-color);\n",
              "  }\n",
              "\n",
              "  .colab-df-quickchart-complete:disabled,\n",
              "  .colab-df-quickchart-complete:disabled:hover {\n",
              "    background-color: var(--disabled-bg-color);\n",
              "    fill: var(--disabled-fill-color);\n",
              "    box-shadow: none;\n",
              "  }\n",
              "\n",
              "  .colab-df-spinner {\n",
              "    border: 2px solid var(--fill-color);\n",
              "    border-color: transparent;\n",
              "    border-bottom-color: var(--fill-color);\n",
              "    animation:\n",
              "      spin 1s steps(1) infinite;\n",
              "  }\n",
              "\n",
              "  @keyframes spin {\n",
              "    0% {\n",
              "      border-color: transparent;\n",
              "      border-bottom-color: var(--fill-color);\n",
              "      border-left-color: var(--fill-color);\n",
              "    }\n",
              "    20% {\n",
              "      border-color: transparent;\n",
              "      border-left-color: var(--fill-color);\n",
              "      border-top-color: var(--fill-color);\n",
              "    }\n",
              "    30% {\n",
              "      border-color: transparent;\n",
              "      border-left-color: var(--fill-color);\n",
              "      border-top-color: var(--fill-color);\n",
              "      border-right-color: var(--fill-color);\n",
              "    }\n",
              "    40% {\n",
              "      border-color: transparent;\n",
              "      border-right-color: var(--fill-color);\n",
              "      border-top-color: var(--fill-color);\n",
              "    }\n",
              "    60% {\n",
              "      border-color: transparent;\n",
              "      border-right-color: var(--fill-color);\n",
              "    }\n",
              "    80% {\n",
              "      border-color: transparent;\n",
              "      border-right-color: var(--fill-color);\n",
              "      border-bottom-color: var(--fill-color);\n",
              "    }\n",
              "    90% {\n",
              "      border-color: transparent;\n",
              "      border-bottom-color: var(--fill-color);\n",
              "    }\n",
              "  }\n",
              "</style>\n",
              "\n",
              "  <script>\n",
              "    async function quickchart(key) {\n",
              "      const quickchartButtonEl =\n",
              "        document.querySelector('#' + key + ' button');\n",
              "      quickchartButtonEl.disabled = true;  // To prevent multiple clicks.\n",
              "      quickchartButtonEl.classList.add('colab-df-spinner');\n",
              "      try {\n",
              "        const charts = await google.colab.kernel.invokeFunction(\n",
              "            'suggestCharts', [key], {});\n",
              "      } catch (error) {\n",
              "        console.error('Error during call to suggestCharts:', error);\n",
              "      }\n",
              "      quickchartButtonEl.classList.remove('colab-df-spinner');\n",
              "      quickchartButtonEl.classList.add('colab-df-quickchart-complete');\n",
              "    }\n",
              "    (() => {\n",
              "      let quickchartButtonEl =\n",
              "        document.querySelector('#df-9336c895-ad9d-4c3a-b1cf-431ec4526b39 button');\n",
              "      quickchartButtonEl.style.display =\n",
              "        google.colab.kernel.accessAllowed ? 'block' : 'none';\n",
              "    })();\n",
              "  </script>\n",
              "</div>\n",
              "\n",
              "  <div id=\"id_def33be2-c334-4c66-a530-a279d1cf2f68\">\n",
              "    <style>\n",
              "      .colab-df-generate {\n",
              "        background-color: #E8F0FE;\n",
              "        border: none;\n",
              "        border-radius: 50%;\n",
              "        cursor: pointer;\n",
              "        display: none;\n",
              "        fill: #1967D2;\n",
              "        height: 32px;\n",
              "        padding: 0 0 0 0;\n",
              "        width: 32px;\n",
              "      }\n",
              "\n",
              "      .colab-df-generate:hover {\n",
              "        background-color: #E2EBFA;\n",
              "        box-shadow: 0px 1px 2px rgba(60, 64, 67, 0.3), 0px 1px 3px 1px rgba(60, 64, 67, 0.15);\n",
              "        fill: #174EA6;\n",
              "      }\n",
              "\n",
              "      [theme=dark] .colab-df-generate {\n",
              "        background-color: #3B4455;\n",
              "        fill: #D2E3FC;\n",
              "      }\n",
              "\n",
              "      [theme=dark] .colab-df-generate:hover {\n",
              "        background-color: #434B5C;\n",
              "        box-shadow: 0px 1px 3px 1px rgba(0, 0, 0, 0.15);\n",
              "        filter: drop-shadow(0px 1px 2px rgba(0, 0, 0, 0.3));\n",
              "        fill: #FFFFFF;\n",
              "      }\n",
              "    </style>\n",
              "    <button class=\"colab-df-generate\" onclick=\"generateWithVariable('df')\"\n",
              "            title=\"Generate code using this dataframe.\"\n",
              "            style=\"display:none;\">\n",
              "\n",
              "  <svg xmlns=\"http://www.w3.org/2000/svg\" height=\"24px\"viewBox=\"0 0 24 24\"\n",
              "       width=\"24px\">\n",
              "    <path d=\"M7,19H8.4L18.45,9,17,7.55,7,17.6ZM5,21V16.75L18.45,3.32a2,2,0,0,1,2.83,0l1.4,1.43a1.91,1.91,0,0,1,.58,1.4,1.91,1.91,0,0,1-.58,1.4L9.25,21ZM18.45,9,17,7.55Zm-12,3A5.31,5.31,0,0,0,4.9,8.1,5.31,5.31,0,0,0,1,6.5,5.31,5.31,0,0,0,4.9,4.9,5.31,5.31,0,0,0,6.5,1,5.31,5.31,0,0,0,8.1,4.9,5.31,5.31,0,0,0,12,6.5,5.46,5.46,0,0,0,6.5,12Z\"/>\n",
              "  </svg>\n",
              "    </button>\n",
              "    <script>\n",
              "      (() => {\n",
              "      const buttonEl =\n",
              "        document.querySelector('#id_def33be2-c334-4c66-a530-a279d1cf2f68 button.colab-df-generate');\n",
              "      buttonEl.style.display =\n",
              "        google.colab.kernel.accessAllowed ? 'block' : 'none';\n",
              "\n",
              "      buttonEl.onclick = () => {\n",
              "        google.colab.notebook.generateWithVariable('df');\n",
              "      }\n",
              "      })();\n",
              "    </script>\n",
              "  </div>\n",
              "\n",
              "    </div>\n",
              "  </div>\n"
            ],
            "application/vnd.google.colaboratory.intrinsic+json": {
              "type": "dataframe",
              "variable_name": "df",
              "summary": "{\n  \"name\": \"df\",\n  \"rows\": 6869,\n  \"fields\": [\n    {\n      \"column\": \"Date\",\n      \"properties\": {\n        \"dtype\": \"object\",\n        \"num_unique_values\": 6869,\n        \"samples\": [\n          \"2008-09-19\",\n          \"2001-08-20\",\n          \"2018-04-13\"\n        ],\n        \"semantic_type\": \"\",\n        \"description\": \"\"\n      }\n    },\n    {\n      \"column\": \"open\",\n      \"properties\": {\n        \"dtype\": \"number\",\n        \"std\": 525.213958641271,\n        \"min\": 3.7300000190734863,\n        \"max\": 1723.449951171875,\n        \"num_unique_values\": 5059,\n        \"samples\": [\n          90.5,\n          1632.0,\n          321.0\n        ],\n        \"semantic_type\": \"\",\n        \"description\": \"\"\n      }\n    },\n    {\n      \"column\": \"high\",\n      \"properties\": {\n        \"dtype\": \"number\",\n        \"std\": 529.6122432865615,\n        \"min\": 3.7899999618530273,\n        \"max\": 1757.5,\n        \"num_unique_values\": 5302,\n        \"samples\": [\n          644.5,\n          1047.0250244140625,\n          772.7999877929688\n        ],\n        \"semantic_type\": \"\",\n        \"description\": \"\"\n      }\n    },\n    {\n      \"column\": \"low\",\n      \"properties\": {\n        \"dtype\": \"number\",\n        \"std\": 520.5389215766997,\n        \"min\": 3.724999904632568,\n        \"max\": 1713.800048828125,\n        \"num_unique_values\": 5544,\n        \"samples\": [\n          474.1000061035156,\n          84.22000122070312,\n          1498.9000244140625\n        ],\n        \"semantic_type\": \"\",\n        \"description\": \"\"\n      }\n    },\n    {\n      \"column\": \"close\",\n      \"properties\": {\n        \"dtype\": \"number\",\n        \"std\": 525.0792622082475,\n        \"min\": 3.75,\n        \"max\": 1728.199951171875,\n        \"num_unique_values\": 6028,\n        \"samples\": [\n          526.0499877929688,\n          24.475000381469727,\n          509.9750061035156\n        ],\n        \"semantic_type\": \"\",\n        \"description\": \"\"\n      }\n    },\n    {\n      \"column\": \"Adj Close\",\n      \"properties\": {\n        \"dtype\": \"number\",\n        \"std\": 517.4567940312107,\n        \"min\": 2.973398447036743,\n        \"max\": 1728.199951171875,\n        \"num_unique_values\": 6314,\n        \"samples\": [\n          235.12548828125,\n          61.16831970214844,\n          1578.699951171875\n        ],\n        \"semantic_type\": \"\",\n        \"description\": \"\"\n      }\n    },\n    {\n      \"column\": \"volume\",\n      \"properties\": {\n        \"dtype\": \"number\",\n        \"std\": 6740069,\n        \"min\": 0,\n        \"max\": 201129980,\n        \"num_unique_values\": 6701,\n        \"samples\": [\n          2275670,\n          3755570,\n          7604558\n        ],\n        \"semantic_type\": \"\",\n        \"description\": \"\"\n      }\n    }\n  ]\n}"
            }
          },
          "metadata": {},
          "execution_count": 52
        }
      ]
    },
    {
      "cell_type": "code",
      "metadata": {
        "colab": {
          "base_uri": "https://localhost:8080/",
          "height": 676
        },
        "id": "PyOzX9Myjqyb",
        "outputId": "e1a7330b-62e8-4662-f31f-3e4480044479"
      },
      "source": [
        "#setting index as date\n",
        "df['Date'] = pd.to_datetime(df.Date, format='%Y-%m-%d')\n",
        "df.index = df['Date']\n",
        "\n",
        "#plot\n",
        "plt.figure(figsize=(16, 8))\n",
        "plt.plot(df['close'], label='Close Price history')\n",
        "plt.plot(df['high'], label='High Price history')\n",
        "plt.legend()\n",
        "plt.show()  #BCZ closing and high price are the most"
      ],
      "execution_count": null,
      "outputs": [
        {
          "output_type": "display_data",
          "data": {
            "text/plain": [
              "<Figure size 1600x800 with 1 Axes>"
            ],
            "image/png": "[encoded data removed]"
          },
          "metadata": {}
        }
      ]
    },
    {
      "cell_type": "code",
      "metadata": {
        "id": "WfJ1bO3Dj5g0"
      },
      "source": [
        "#sorting\n",
        "data = df.sort_index(ascending=True, axis=0)\n",
        "\n",
        "#creating a separate dataset\n",
        "new_data = pd.DataFrame(index=range(0, len(df)), columns=['Date','close'])\n",
        "\n",
        "for i in range(0, len(data)):\n",
        "    new_data['Date'][i] = data['Date'][i]\n",
        "    new_data['close'][i] = data['close'][i]"
      ],
      "execution_count": null,
      "outputs": []
    },
    {
      "cell_type": "code",
      "metadata": {
        "colab": {
          "base_uri": "https://localhost:8080/"
        },
        "id": "MCliKfhLlxaO",
        "outputId": "eaac4ba8-7050-4364-ab21-fc8f42a69bd7"
      },
      "source": [
        "new_data.Date"
      ],
      "execution_count": null,
      "outputs": [
        {
          "output_type": "execute_result",
          "data": {
            "text/plain": [
              "0       1996-12-11 00:00:00\n",
              "1       1996-12-12 00:00:00\n",
              "2       1996-12-13 00:00:00\n",
              "3       1996-12-16 00:00:00\n",
              "4       1996-12-17 00:00:00\n",
              "               ...         \n",
              "6864    2024-04-22 00:00:00\n",
              "6865    2024-04-23 00:00:00\n",
              "6866    2024-04-24 00:00:00\n",
              "6867    2024-04-25 00:00:00\n",
              "6868    2024-04-26 00:00:00\n",
              "Name: Date, Length: 6869, dtype: object"
            ]
          },
          "metadata": {},
          "execution_count": 55
        }
      ]
    },
    {
      "cell_type": "code",
      "metadata": {
        "id": "6xyRb6bOkYZ0"
      },
      "source": [
        "from sklearn.preprocessing import MinMaxScaler\n",
        "scaler = MinMaxScaler(feature_range=(0, 1))"
      ],
      "execution_count": null,
      "outputs": []
    },
    {
      "cell_type": "code",
      "metadata": {
        "colab": {
          "base_uri": "https://localhost:8080/"
        },
        "id": "sBYq36kCkCt2",
        "outputId": "e28890d2-3104-4e48-f9a4-6ccdc6057f2b"
      },
      "source": [
        "from keras.models import Sequential\n",
        "from keras.layers import Dense, Dropout, LSTM\n",
        "\n",
        "#setting index\n",
        "new_data.index = new_data.Date\n",
        "new_data.drop('Date', axis=1, inplace=True)\n",
        "\n",
        "\n",
        "#creating train and test sets\n",
        "dataset = new_data.values\n",
        "\n",
        "train = dataset[0:3000, :] # 3000 dayes of data for train\n",
        "valid = dataset[3000:, :] # rest for test\n",
        "\n",
        "#converting dataset into x_train and y_train\n",
        "scaler = MinMaxScaler(feature_range=(0, 1))\n",
        "scaled_data = scaler.fit_transform(dataset)\n",
        "\n",
        "x_train, y_train = [], []\n",
        "for i in range(60, len(train)):\n",
        "    x_train.append(scaled_data[i-60:i,0])\n",
        "    y_train.append(scaled_data[i,0])\n",
        "\n",
        "x_train, y_train = np.array(x_train), np.array(y_train)\n",
        "\n",
        "x_train = np.reshape(x_train, (x_train.shape[0], x_train.shape[1],1))\n",
        "\n",
        "#create and fit the LSTM network\n",
        "model = Sequential()\n",
        "model.add(LSTM(units=50, return_sequences=True, input_shape=(x_train.shape[1],1)))\n",
        "model.add(LSTM(units=50))\n",
        "model.add(Dense(1))\n",
        "\n",
        "model.compile(loss='mean_squared_error', optimizer='adam')\n",
        "model.fit(x_train, y_train, epochs=2, batch_size=1, verbose=2)\n",
        "\n",
        "#epochs 2-> bcz over processing makes rms error zyada"
      ],
      "execution_count": null,
      "outputs": [
        {
          "output_type": "stream",
          "name": "stdout",
          "text": [
            "Epoch 1/2\n",
            "2940/2940 - 94s - loss: 1.8994e-05 - 94s/epoch - 32ms/step\n",
            "Epoch 2/2\n",
            "2940/2940 - 89s - loss: 9.9328e-06 - 89s/epoch - 30ms/step\n"
          ]
        },
        {
          "output_type": "execute_result",
          "data": {
            "text/plain": [
              "<keras.src.callbacks.History at 0x7f3c6f660be0>"
            ]
          },
          "metadata": {},
          "execution_count": 57
        }
      ]
    },
    {
      "cell_type": "code",
      "metadata": {
        "id": "8DnZYsjioe-3",
        "colab": {
          "base_uri": "https://localhost:8080/"
        },
        "outputId": "cbf11538-d79c-42aa-df31-3153b1b6e334"
      },
      "source": [
        "inputs = new_data[len(new_data) - len(valid) - 60:].values\n",
        "inputs = scaler.transform(inputs)\n",
        "print(inputs.shape[0])\n",
        "X_test = []\n",
        "for i in range(60, inputs.shape[0]):\n",
        "    X_test.append(inputs[i-60:i, 0])\n",
        "\n",
        "X_test = np.array(X_test)\n",
        "print(X_test)\n",
        "from numpy import newaxis\n",
        "X_test = X_test[:, :, newaxis]\n",
        "\n",
        "closing_price = model.predict(X_test)\n",
        "closing_price = scaler.inverse_transform(closing_price)\n",
        "#actual processing"
      ],
      "execution_count": null,
      "outputs": [
        {
          "output_type": "stream",
          "name": "stdout",
          "text": [
            "3929\n",
            "[[0.08483284 0.08255966 0.0795935  ... 0.06836383 0.07046595 0.07223173]\n",
            " [0.08255966 0.0795935  0.07806837 ... 0.07046595 0.07223173 0.07387863]\n",
            " [0.0795935  0.07806837 0.07793789 ... 0.07223173 0.07387863 0.07118502]\n",
            " ...\n",
            " [0.82553859 0.84209462 0.82991682 ... 0.88581872 0.87474267 0.87207516]\n",
            " [0.84209462 0.82991682 0.84136975 ... 0.87474267 0.87207516 0.87445272]\n",
            " [0.82991682 0.84136975 0.83536785 ... 0.87207516 0.87445272 0.87390185]]\n",
            "121/121 [==============================] - 3s 18ms/step\n"
          ]
        }
      ]
    },
    {
      "cell_type": "code",
      "metadata": {
        "id": "D36XhTVnmuR2",
        "colab": {
          "base_uri": "https://localhost:8080/"
        },
        "outputId": "a2521935-25fa-48b2-c757-ac7c3d4540d1"
      },
      "source": [
        "rms = np.sqrt(np.mean(np.power((valid-closing_price),2)))\n",
        "print(rms) # rms -> root means square"
      ],
      "execution_count": null,
      "outputs": [
        {
          "output_type": "stream",
          "name": "stdout",
          "text": [
            "20.49307766684469\n"
          ]
        }
      ]
    },
    {
      "cell_type": "code",
      "metadata": {
        "id": "dxmymgnSmyiS",
        "colab": {
          "base_uri": "https://localhost:8080/",
          "height": 537
        },
        "outputId": "f57e2216-80bf-47dc-bfb9-4abd5b0fcb94"
      },
      "source": [
        "#for plotting\n",
        "train = new_data[:3000]\n",
        "valid = new_data[3000:]\n",
        "valid['Predictions'] = closing_price\n",
        "plt.plot(new_data['close'],label='actual',color = 'green')\n",
        "plt.plot(valid['Predictions'],label='prediction',color = 'blue')\n",
        "plt.show()\n",
        "\n",
        "#Yagna-> we are predicting here, not forecasting,(For future refrence) hope u remember this difference"
      ],
      "execution_count": null,
      "outputs": [
        {
          "output_type": "stream",
          "name": "stderr",
          "text": [
            "<ipython-input-60-cd78f05b6c8e>:4: SettingWithCopyWarning: \n",
            "A value is trying to be set on a copy of a slice from a DataFrame.\n",
            "Try using .loc[row_indexer,col_indexer] = value instead\n",
            "\n",
            "See the caveats in the documentation: https://pandas.pydata.org/pandas-docs/stable/user_guide/indexing.html#returning-a-view-versus-a-copy\n",
            "  valid['Predictions'] = closing_price\n"
          ]
        },
        {
          "output_type": "display_data",
          "data": {
            "text/plain": [
              "<Figure size 640x480 with 1 Axes>"
            ],
            "image/png": "[encoded data removed]"
          },
          "metadata": {}
        }
      ]
    },
    {
      "cell_type": "code",
      "source": [
        "\n",
        "\"\"\"\n",
        "next_week_dates = pd.date_range(start=data.index[-1], periods=7, freq='D')\n",
        "next_week_data = pd.DataFrame(index=next_week_dates, columns=['predicted close'])\n",
        "for date in next_week_dates:\n",
        "    inputs = new_data[len(new_data) - len(valid) + 490:].values\n",
        "    inputs = scaler.transform(inputs)\n",
        "    X_test = []\n",
        "    for i in range(60, inputs.shape[0]):\n",
        "        X_test.append(inputs[i-60:i, 0])\n",
        "    X_test = np.array(X_test)\n",
        "    X_test = X_test[:, :, newaxis]\n",
        "    closing_price = model.predict(X_test)\n",
        "    closing_price = scaler.inverse_transform(closing_price)\n",
        "    next_week_data.loc[date, 'predicted close'] = closing_price[next_week_dates.get_loc(date)]\n",
        "\n",
        "print(next_week_data)\n",
        "\"\"\"\n",
        "#THis is for experiment dont use this"
      ],
      "metadata": {
        "colab": {
          "base_uri": "https://localhost:8080/",
          "height": 107
        },
        "id": "WK7rHy6TdIJL",
        "outputId": "63d610f2-2c89-4f4c-fece-b97c5ceb615d"
      },
      "execution_count": null,
      "outputs": [
        {
          "output_type": "execute_result",
          "data": {
            "text/plain": [
              "\"\\nnext_week_dates = pd.date_range(start=data.index[-1], periods=7, freq='D')\\nnext_week_data = pd.DataFrame(index=next_week_dates, columns=['predicted close'])\\nfor date in next_week_dates:\\n    inputs = new_data[len(new_data) - len(valid) + 490:].values\\n    inputs = scaler.transform(inputs)\\n    X_test = []\\n    for i in range(60, inputs.shape[0]):\\n        X_test.append(inputs[i-60:i, 0])\\n    X_test = np.array(X_test)\\n    X_test = X_test[:, :, newaxis]\\n    closing_price = model.predict(X_test)\\n    closing_price = scaler.inverse_transform(closing_price)\\n    next_week_data.loc[date, 'predicted close'] = closing_price[next_week_dates.get_loc(date)]\\n\\nprint(next_week_data)\\n\""
            ],
            "application/vnd.google.colaboratory.intrinsic+json": {
              "type": "string"
            }
          },
          "metadata": {},
          "execution_count": 61
        }
      ]
    },
    {
      "cell_type": "code",
      "source": [
        "\"\"\"\n",
        "#for plotting\n",
        "plt.plot(new_data['close'][len(new_data)-100:],label='actual',color = 'green')\n",
        "plt.plot(next_week_data['predicted close'],label='forecast',color='red')\n",
        "plt.show()\n",
        "\"\"\""
      ],
      "metadata": {
        "colab": {
          "base_uri": "https://localhost:8080/",
          "height": 53
        },
        "id": "4bMwEufio7Ri",
        "outputId": "e18b183b-22ee-4bfa-c3a0-a1765fbd1706"
      },
      "execution_count": null,
      "outputs": [
        {
          "output_type": "execute_result",
          "data": {
            "text/plain": [
              "\"\\n#for plotting\\nplt.plot(new_data['close'][len(new_data)-100:],label='actual',color = 'green')\\nplt.plot(next_week_data['predicted close'],label='forecast',color='red')\\nplt.show()\\n\""
            ],
            "application/vnd.google.colaboratory.intrinsic+json": {
              "type": "string"
            }
          },
          "metadata": {},
          "execution_count": 62
        }
      ]
    },
    {
      "cell_type": "code",
      "source": [
        "\n",
        "last_closing_price = valid['close'][-1]\n",
        "# Get the last 60 closing prices\n",
        "last_60_closing_prices = valid['close'][-60:]\n",
        "\n",
        "scaled_last_60_closing_prices = scaler.transform(last_60_closing_prices.values.reshape(-1, 1))\n",
        "\n",
        "last_60_closing_prices_3d = np.array(scaled_last_60_closing_prices).reshape(1, 60, 1)\n",
        "\n",
        "next_day_opening_price = model.predict(last_60_closing_prices_3d) [0] [0]\n",
        "\n",
        "next_day_opening_price = scaler.inverse_transform([[next_day_opening_price]])[0][0]\n",
        "\n",
        "# Print the predicted AVG price\n",
        "print(f\"Predicted AVG price for next day: {next_day_opening_price}\")"
      ],
      "metadata": {
        "colab": {
          "base_uri": "https://localhost:8080/"
        },
        "id": "rAhwTpHQvQqC",
        "outputId": "6ce9afdb-ef01-463e-d088-f7173eaf20d1"
      },
      "execution_count": null,
      "outputs": [
        {
          "output_type": "stream",
          "name": "stdout",
          "text": [
            "1/1 [==============================] - 0s 32ms/step\n",
            "Predicted Closing price for next day: 1508.312748960103\n"
          ]
        }
      ]
    },
    {
      "cell_type": "code",
      "source": [],
      "metadata": {
        "id": "fzFMZPI4zNj7"
      },
      "execution_count": null,
      "outputs": []
    }
  ]
}